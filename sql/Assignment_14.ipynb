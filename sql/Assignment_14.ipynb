{
    "metadata": {
        "kernelspec": {
            "name": "SQL",
            "display_name": "SQL",
            "language": "sql"
        },
        "language_info": {
            "name": "sql",
            "version": ""
        }
    },
    "nbformat_minor": 2,
    "nbformat": 4,
    "cells": [
        {
            "cell_type": "code",
            "source": [
                "create database lib_db"
            ],
            "metadata": {
                "azdata_cell_guid": "1ffca0b7-f215-41c6-a2ed-5851cc68758d",
                "language": "sql"
            },
            "outputs": [
                {
                    "output_type": "error",
                    "evalue": "Msg 1801, Level 16, State 3, Line 1\r\nDatabase 'lib_db' already exists. Choose a different database name.",
                    "ename": "",
                    "traceback": []
                },
                {
                    "output_type": "display_data",
                    "data": {
                        "text/html": "Total execution time: 00:00:00.001"
                    },
                    "metadata": {}
                }
            ],
            "execution_count": 15
        },
        {
            "cell_type": "code",
            "source": [
                "use lib_db"
            ],
            "metadata": {
                "language": "sql",
                "azdata_cell_guid": "77c3950b-7b0e-46be-a284-e93f19f8318c"
            },
            "outputs": [
                {
                    "output_type": "display_data",
                    "data": {
                        "text/html": "Commands completed successfully."
                    },
                    "metadata": {}
                },
                {
                    "output_type": "display_data",
                    "data": {
                        "text/html": "Total execution time: 00:00:00"
                    },
                    "metadata": {}
                }
            ],
            "execution_count": 2
        },
        {
            "cell_type": "code",
            "source": [
                "CREATE TABLE publishers\r\n",
                "    (\r\n",
                "        id VARCHAR(100) PRIMARY KEY, \r\n",
                "        name VARCHAR(100) NOT NULL,\r\n",
                "        address VARCHAR(100) NOT NULL,\r\n",
                "        website VARCHAR(100) NOT NULL\r\n",
                "    );\r\n",
                ""
            ],
            "metadata": {
                "language": "sql",
                "azdata_cell_guid": "271f5a6a-5ca9-4520-acdf-deae52532faa"
            },
            "outputs": [
                {
                    "output_type": "error",
                    "evalue": "Msg 2714, Level 16, State 6, Line 1\r\nThere is already an object named 'publishers' in the database.",
                    "ename": "",
                    "traceback": []
                },
                {
                    "output_type": "display_data",
                    "data": {
                        "text/html": "Total execution time: 00:00:00.003"
                    },
                    "metadata": {}
                }
            ],
            "execution_count": 29
        },
        {
            "cell_type": "code",
            "source": [
                "CREATE TABLE books \r\n",
                "    (\r\n",
                "        id VARCHAR(100) PRIMARY KEY,\r\n",
                "        title VARCHAR(100) NOT NULL\r\n",
                "    );"
            ],
            "metadata": {
                "language": "sql",
                "azdata_cell_guid": "e5d15028-663e-49cc-a45f-48a302e08e0a"
            },
            "outputs": [
                {
                    "output_type": "display_data",
                    "data": {
                        "text/html": "Commands completed successfully."
                    },
                    "metadata": {}
                },
                {
                    "output_type": "display_data",
                    "data": {
                        "text/html": "Total execution time: 00:00:00.071"
                    },
                    "metadata": {}
                }
            ],
            "execution_count": 30
        },
        {
            "cell_type": "code",
            "source": [
                "CREATE TABLE isbns\r\n",
                "    (\r\n",
                "        isbn VARCHAR(100) PRIMARY KEY,\r\n",
                "        format VARCHAR(100) NOT NULL,\r\n",
                "        price INT NOT NULL,\r\n",
                "        cover VARCHAR(100) NOT NULL,\r\n",
                "        book_id VARCHAR(100) NOT NULL FOREIGN KEY REFERENCES books(id),\r\n",
                "        publisher_id VARCHAR(100) NOT NULL FOREIGN KEY REFERENCES publishers(id)\r\n",
                "    )"
            ],
            "metadata": {
                "language": "sql",
                "azdata_cell_guid": "a226e4ac-b4ab-429d-b205-49bdced29905"
            },
            "outputs": [
                {
                    "output_type": "display_data",
                    "data": {
                        "text/html": "Commands completed successfully."
                    },
                    "metadata": {}
                },
                {
                    "output_type": "display_data",
                    "data": {
                        "text/html": "Total execution time: 00:00:00.058"
                    },
                    "metadata": {}
                }
            ],
            "execution_count": 31
        },
        {
            "cell_type": "code",
            "source": [
                "CREATE TABLE reviewers\r\n",
                "    (\r\n",
                "        id VARCHAR(100) PRIMARY KEY,\r\n",
                "        name VARCHAR(100) NOT NULL,\r\n",
                "        email VARCHAR(100) UNIQUE NOT NULL\r\n",
                "    );"
            ],
            "metadata": {
                "language": "sql",
                "azdata_cell_guid": "9503d2c4-c61d-4fd8-9f99-69e03eb26aab"
            },
            "outputs": [
                {
                    "output_type": "display_data",
                    "data": {
                        "text/html": "Commands completed successfully."
                    },
                    "metadata": {}
                },
                {
                    "output_type": "display_data",
                    "data": {
                        "text/html": "Total execution time: 00:00:00.072"
                    },
                    "metadata": {}
                }
            ],
            "execution_count": 32
        },
        {
            "cell_type": "code",
            "source": [
                "CREATE TABLE reviews\r\n",
                "    (\r\n",
                "        book_id VARCHAR(100) NOT NULL FOREIGN KEY REFERENCES books(id),\r\n",
                "        reviewer_id VARCHAR(100) NOT NULL FOREIGN KEY REFERENCES reviewers(id),\r\n",
                "        title VARCHAR(100) NOT NULL,\r\n",
                "        details VARCHAR(100) NOT NULL,\r\n",
                "        rating INT NOT NULL,\r\n",
                "        PRIMARY KEY (book_id, reviewer_id)\r\n",
                "    );"
            ],
            "metadata": {
                "language": "sql",
                "azdata_cell_guid": "ed693d59-4d6a-4e40-8733-3a7096dc4cab"
            },
            "outputs": [
                {
                    "output_type": "display_data",
                    "data": {
                        "text/html": "Commands completed successfully."
                    },
                    "metadata": {}
                },
                {
                    "output_type": "display_data",
                    "data": {
                        "text/html": "Total execution time: 00:00:00.071"
                    },
                    "metadata": {}
                }
            ],
            "execution_count": 33
        },
        {
            "cell_type": "code",
            "source": [
                "INSERT INTO publishers\r\n",
                "    (\r\n",
                "        id,\r\n",
                "        name, \r\n",
                "        address,\r\n",
                "        website\r\n",
                "    )\r\n",
                "VALUES\r\n",
                "    (\r\n",
                "        'aksharan',\r\n",
                "        'Aksharan',\r\n",
                "        'pune',\r\n",
                "        'web1'\r\n",
                "    ),\r\n",
                "    (\r\n",
                "        'lost-epic',\r\n",
                "        'Lost Epic',\r\n",
                "        'bangalore',\r\n",
                "        'web2'\r\n",
                "    ),\r\n",
                "    (\r\n",
                "        'edu-world',\r\n",
                "        'Edu World',\r\n",
                "        'delhi',\r\n",
                "        'web3'\r\n",
                "    ),\r\n",
                "    (\r\n",
                "        'penguin',\r\n",
                "        'Penguin',\r\n",
                "        'london',\r\n",
                "        'web4'\r\n",
                "    )"
            ],
            "metadata": {
                "language": "sql",
                "azdata_cell_guid": "6dda7b88-3f98-4c1b-9f06-702a715522e4"
            },
            "outputs": [
                {
                    "output_type": "display_data",
                    "data": {
                        "text/html": "(4 rows affected)"
                    },
                    "metadata": {}
                },
                {
                    "output_type": "display_data",
                    "data": {
                        "text/html": "Total execution time: 00:00:00.075"
                    },
                    "metadata": {}
                }
            ],
            "execution_count": 34
        },
        {
            "cell_type": "code",
            "source": [
                "INSERT into books\r\n",
                "    (\r\n",
                "        id,\r\n",
                "        title\r\n",
                "    )\r\n",
                "VALUES\r\n",
                "    (\r\n",
                "        'manas',\r\n",
                "        'Manas'\r\n",
                "    ),\r\n",
                "    (\r\n",
                "        'the-accursed-god',\r\n",
                "        'The Accursed God'\r\n",
                "    ),\r\n",
                "    (\r\n",
                "        'rashmirathi',\r\n",
                "        'Rashmirathi'\r\n",
                "    );"
            ],
            "metadata": {
                "language": "sql",
                "azdata_cell_guid": "9246fff4-495b-431f-910e-060d2c173367"
            },
            "outputs": [
                {
                    "output_type": "display_data",
                    "data": {
                        "text/html": "(3 rows affected)"
                    },
                    "metadata": {}
                },
                {
                    "output_type": "display_data",
                    "data": {
                        "text/html": "Total execution time: 00:00:00.074"
                    },
                    "metadata": {}
                }
            ],
            "execution_count": 35
        },
        {
            "cell_type": "code",
            "source": [
                "INSERT INTO isbns \r\n",
                "    (\r\n",
                "        isbn,\r\n",
                "        format,\r\n",
                "        price,\r\n",
                "        cover,\r\n",
                "        book_id,\r\n",
                "        publisher_id\r\n",
                "    )\r\n",
                "VALUES\r\n",
                "    (\r\n",
                "        '11234',\r\n",
                "        'paperback',\r\n",
                "        299,\r\n",
                "        'manas_pb',\r\n",
                "        'manas',\r\n",
                "        'aksharan'\r\n",
                "    ),\r\n",
                "    (\r\n",
                "        '11235',\r\n",
                "        'ebook',\r\n",
                "        49,\r\n",
                "        'manas_f',\r\n",
                "        'manas',\r\n",
                "        'lost-epic'\r\n",
                "    ),\r\n",
                "    (\r\n",
                "        '11236',\r\n",
                "        'paperback',\r\n",
                "        399,\r\n",
                "        'tag',\r\n",
                "        'the-accursed-god',\r\n",
                "        'edu-world'\r\n",
                "    ),\r\n",
                "    (\r\n",
                "        '11237',\r\n",
                "        'ebook',\r\n",
                "        119,\r\n",
                "        'tag',\r\n",
                "        'the-accursed-god',\r\n",
                "        'lost-epic'\r\n",
                "         ),\r\n",
                "    (\r\n",
                "        '11238',\r\n",
                "        'ebook',\r\n",
                "        159,\r\n",
                "        'rashimirathi',\r\n",
                "        'rashmirathi',\r\n",
                "        'penguin'\r\n",
                "    );"
            ],
            "metadata": {
                "language": "sql",
                "azdata_cell_guid": "a9deafbf-cb6b-4dbc-986c-d2b2b75e8692"
            },
            "outputs": [
                {
                    "output_type": "display_data",
                    "data": {
                        "text/html": "(5 rows affected)"
                    },
                    "metadata": {}
                },
                {
                    "output_type": "display_data",
                    "data": {
                        "text/html": "Total execution time: 00:00:00.083"
                    },
                    "metadata": {}
                }
            ],
            "execution_count": 36
        },
        {
            "cell_type": "code",
            "source": [
                "INSERT into reviewers\r\n",
                "    (\r\n",
                "        id,\r\n",
                "        name,\r\n",
                "        email\r\n",
                "    )\r\n",
                "VALUES\r\n",
                "    (\r\n",
                "        1,\r\n",
                "        'Jyothi',\r\n",
                "        'jyothi@ecolab.com'\r\n",
                "    ),\r\n",
                "    (\r\n",
                "        2,\r\n",
                "        'Stephan',\r\n",
                "        'stephani@google.com'\r\n",
                "    ),\r\n",
                "    (\r\n",
                "        3,\r\n",
                "        'Steve',\r\n",
                "        'steve@outlook.com'\r\n",
                "    ),\r\n",
                "    (\r\n",
                "        4,\r\n",
                "        'John',\r\n",
                "        'john@google.com'\r\n",
                "    );"
            ],
            "metadata": {
                "language": "sql",
                "azdata_cell_guid": "b81c9064-9ec9-4f2d-9196-f04e9bab096e"
            },
            "outputs": [
                {
                    "output_type": "display_data",
                    "data": {
                        "text/html": "(4 rows affected)"
                    },
                    "metadata": {}
                },
                {
                    "output_type": "display_data",
                    "data": {
                        "text/html": "Total execution time: 00:00:00.072"
                    },
                    "metadata": {}
                }
            ],
            "execution_count": 37
        },
        {
            "cell_type": "code",
            "source": [
                "INSERT into reviews\r\n",
                "    (\r\n",
                "        book_id,\r\n",
                "        reviewer_id,\r\n",
                "        title,\r\n",
                "        details,\r\n",
                "        rating\r\n",
                "    )\r\n",
                "VALUES\r\n",
                "    (\r\n",
                "        'manas',\r\n",
                "        1,\r\n",
                "        'interesting one',\r\n",
                "        'details 1',\r\n",
                "        4\r\n",
                "    ),\r\n",
                "    (\r\n",
                "        'manas',\r\n",
                "        4,\r\n",
                "        'good',\r\n",
                "        'details 2',\r\n",
                "        3\r\n",
                "    ),\r\n",
                "    (\r\n",
                "        'the-accursed-god',\r\n",
                "        1,\r\n",
                "        'must read',\r\n",
                "        'details 1',\r\n",
                "        5\r\n",
                "    ),\r\n",
                "    (\r\n",
                "        'the-accursed-god',\r\n",
                "        2,\r\n",
                "        'amazing',\r\n",
                "        'details 2',\r\n",
                "        4\r\n",
                "    ),\r\n",
                "    (\r\n",
                "        'rashmirathi',\r\n",
                "        3,\r\n",
                "        'not worth reading',\r\n",
                "        'details 1',\r\n",
                "        2\r\n",
                "    );"
            ],
            "metadata": {
                "language": "sql",
                "azdata_cell_guid": "2d29c77d-3ce9-417e-ace9-0e536e959822"
            },
            "outputs": [
                {
                    "output_type": "display_data",
                    "data": {
                        "text/html": "(5 rows affected)"
                    },
                    "metadata": {}
                },
                {
                    "output_type": "display_data",
                    "data": {
                        "text/html": "Total execution time: 00:00:00.077"
                    },
                    "metadata": {}
                }
            ],
            "execution_count": 38
        }
    ]
}