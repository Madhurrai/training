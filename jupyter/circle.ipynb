{
 "cells": [
  {
   "cell_type": "code",
   "execution_count": 7,
   "metadata": {},
   "outputs": [
    {
     "name": "stdout",
     "output_type": "stream",
     "text": [
      "the Information of Circle \n",
      "Radius: 10 \n",
      "Area: 314.1592653589793\n",
      "Perimeter: 62.83185307179586\n",
      "<__main__.Circle object at 0x000001FF7FDEA890>\n"
     ]
    }
   ],
   "source": [
    "import math\n",
    "class Circle:\n",
    "    pass\n",
    "\n",
    "def create(r):\n",
    "    if(r>=0):\n",
    "        c=Circle()\n",
    "        c.radius = r\n",
    "        return c\n",
    "    else:\n",
    "        return \"Invalid radius\"\n",
    "\n",
    "def is_valid(c):\n",
    "    return isinstance(c,Circle)\n",
    "\n",
    "def area(c):\n",
    "    return math.pi*c.radius**2\n",
    "\n",
    "def perimeter(c):\n",
    "    return 2*math.pi*c.radius\n",
    "\n",
    "def info(c):\n",
    "    return f'the Information of Circle \\nRadius: {cir.radius} \\nArea: {area(cir)}\\nPerimeter: {perimeter(cir)}'\n",
    "\n",
    "def draw(c):\n",
    "    return info(c)\n",
    "\n",
    "cir= create(10)\n",
    "print(draw(cir))\n",
    " "
   ]
  },
  {
   "cell_type": "code",
   "execution_count": null,
   "metadata": {},
   "outputs": [],
   "source": []
  }
 ],
 "metadata": {
  "kernelspec": {
   "display_name": "Python 3",
   "language": "python",
   "name": "python3"
  },
  "language_info": {
   "codemirror_mode": {
    "name": "ipython",
    "version": 3
   },
   "file_extension": ".py",
   "mimetype": "text/x-python",
   "name": "python",
   "nbconvert_exporter": "python",
   "pygments_lexer": "ipython3",
   "version": "3.11.5"
  },
  "orig_nbformat": 4
 },
 "nbformat": 4,
 "nbformat_minor": 2
}
