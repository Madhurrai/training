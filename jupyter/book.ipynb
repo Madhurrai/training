{
 "cells": [
  {
   "cell_type": "code",
   "execution_count": 2,
   "metadata": {},
   "outputs": [],
   "source": [
    "class Book:\n",
    "    def __init__(self, id, author, price, rating,title):\n",
    "        self.id=id\n",
    "        self.author=author\n",
    "        self.price=price\n",
    "        self.rating=rating\n",
    "        self.title=title\n",
    "class Library:\n",
    "    def __init__(self):\n",
    "        self.books=[]\n",
    "    def addBooks(self,book):\n",
    "        self.books.append(book)\n",
    "    def findByID(self,id):\n",
    "        for book in self.books:\n",
    "            if book.id==id:\n",
    "                print(f'Found by ID : {book.id},{book.title},{book.author},{book.price},{book.rating}')\n",
    "        return\n",
    "    def findByAuthor(self,author):\n",
    "        for book in self.books:\n",
    "            if book.author==author:\n",
    "                print(f'Found by Author : {book.id},{book.title},{book.author},{book.price},{book.rating}')\n",
    "        return\n",
    "    def findByRating(self,start,end):\n",
    "        for book in self.books:\n",
    "            if (book.rating>=start and book.rating<=end) :\n",
    "                print(f'Found by Rating Range : {book.id},{book.title},{book.author},{book.price},{book.rating}')\n",
    "        return\n",
    "    def findByPrice(self,priceStart,priceEnd):\n",
    "        for book in self.books:\n",
    "            if (book.price>=priceStart and book.price<=priceEnd) :\n",
    "                print(f'Found by Price Range : {book.id},{book.title},{book.author},{book.price},{book.rating}')\n",
    "        return\n",
    "    def info(self):  \n",
    "        for i in self.books:\n",
    "            print(f'{i.id},{i.title},{i.author},{i.price},{i.rating}')\n",
    "        \n",
    "   \n",
    "    "
   ]
  },
  {
   "cell_type": "code",
   "execution_count": 3,
   "metadata": {},
   "outputs": [
    {
     "name": "stdout",
     "output_type": "stream",
     "text": [
      "1,Old days,Benjamin,999,4.5\n",
      "3,The lost,Franklin,1099,3\n",
      "2,He lived,Gregor,2000,4\n",
      "Found by ID : 2,He lived,Gregor,2000,4\n",
      "Found by Author : 1,Old days,Benjamin,999,4.5\n",
      "Found by Rating Range : 1,Old days,Benjamin,999,4.5\n",
      "Found by Rating Range : 3,The lost,Franklin,1099,3\n",
      "Found by Rating Range : 2,He lived,Gregor,2000,4\n",
      "Found by Price Range : 1,Old days,Benjamin,999,4.5\n",
      "Found by Price Range : 3,The lost,Franklin,1099,3\n",
      "Found by Price Range : 2,He lived,Gregor,2000,4\n",
      "Found by ID : 3,The lost,Franklin,1099,3\n"
     ]
    }
   ],
   "source": [
    "book1=Book(1,\"Benjamin\",999,4.5,\"Old days\")\n",
    "book3=Book(3,\"Franklin\",1099,3,\"The lost\")\n",
    "book2=Book(2,\"Gregor\",2000,4,\"He lived\")\n",
    "l=Library()\n",
    "l.addBooks(book1)\n",
    "l.addBooks(book3)\n",
    "l.addBooks(book2)\n",
    "l.info()\n",
    "l.findByID(2)\n",
    "l.findByAuthor(\"Benjamin\")\n",
    "l.findByRating(3,4.5)\n",
    "l.findByPrice(999,2000)\n",
    "l.findByID(3)\n",
    "\n"
   ]
  },
  {
   "cell_type": "code",
   "execution_count": null,
   "metadata": {},
   "outputs": [],
   "source": []
  },
  {
   "cell_type": "code",
   "execution_count": null,
   "metadata": {},
   "outputs": [],
   "source": []
  }
 ],
 "metadata": {
  "kernelspec": {
   "display_name": "Python 3",
   "language": "python",
   "name": "python3"
  },
  "language_info": {
   "codemirror_mode": {
    "name": "ipython",
    "version": 3
   },
   "file_extension": ".py",
   "mimetype": "text/x-python",
   "name": "python",
   "nbconvert_exporter": "python",
   "pygments_lexer": "ipython3",
   "version": "3.11.5"
  },
  "orig_nbformat": 4
 },
 "nbformat": 4,
 "nbformat_minor": 2
}
