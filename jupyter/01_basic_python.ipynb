{
 "cells": [
  {
   "cell_type": "code",
   "execution_count": 5,
   "metadata": {},
   "outputs": [],
   "source": [
    "import math\n",
    "class Triangle:\n",
    "    pass\n",
    "t=Triangle()\n",
    "t.s1=10\n",
    "t.s2=20\n",
    "t.s3=30\n",
    "class Circle:\n",
    "    pass\n",
    "c=Circle\n",
    "c.rad=5\n",
    "def Tper(t):\n",
    "    if t.s1>0 and t.s2>0 and t.s3>0 and \\\n",
    "        t.s1+t.s2 > t.s3 and \\\n",
    "        t.s2+t.s3 > t.s1 and \\\n",
    "        t.s1+t.s3 > t.s2:\n",
    "        return t.s1+t.s2+t.s3\n",
    "    else:\n",
    "        return float('nan')\n",
    "def Cper(r):\n",
    "    if c.r>0:\n",
    "        return 2*math.pi*c.r\n",
    "    else:\n",
    "        return float('nan')\n"
   ]
  },
  {
   "cell_type": "code",
   "execution_count": 6,
   "metadata": {},
   "outputs": [
    {
     "name": "stdout",
     "output_type": "stream",
     "text": [
      "15\n"
     ]
    }
   ],
   "source": [
    "import math\n",
    "def Tper(s1,s2,s3):\n",
    "    if s3>0 and s2>0 and s1>0 and s1<s1+s2 and s2<s1+s3 and s3<s2+s1:\n",
    "        return s1+s2+s3\n",
    "    else:\n",
    "        return float(\"NaN\")\n",
    "def Cper(r):\n",
    "    return 2*math.pi*r\n",
    "shape = input(\"Enter the shape of the geometry\")\n",
    "if shape == \"triangle\":\n",
    "    print(Tper(4,5,6))\n",
    "elif shape == \"circle\":\n",
    "    print(Cper(3))"
   ]
  },
  {
   "cell_type": "code",
   "execution_count": 7,
   "metadata": {},
   "outputs": [],
   "source": []
  }
 ],
 "metadata": {
  "kernelspec": {
   "display_name": "Python 3",
   "language": "python",
   "name": "python3"
  },
  "language_info": {
   "codemirror_mode": {
    "name": "ipython",
    "version": 3
   },
   "file_extension": ".py",
   "mimetype": "text/x-python",
   "name": "python",
   "nbconvert_exporter": "python",
   "pygments_lexer": "ipython3",
   "version": "3.11.5"
  },
  "orig_nbformat": 4
 },
 "nbformat": 4,
 "nbformat_minor": 2
}
