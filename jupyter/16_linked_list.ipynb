{
 "cells": [
  {
   "attachments": {},
   "cell_type": "markdown",
   "metadata": {},
   "source": [
    "# Linked List\n",
    "\n",
    "* internally stores **values** in objects called **Node**\n",
    "    * **Node** is part of internal implementation details\n",
    "\n",
    "#### Node\n"
   ]
  },
  {
   "cell_type": "code",
   "execution_count": 42,
   "metadata": {},
   "outputs": [],
   "source": [
    "class Node:\n",
    "    def __init__(self, value,next=None, previous=None):\n",
    "        self._value=value\n",
    "        self._next=next\n",
    "        self._previous=previous"
   ]
  },
  {
   "attachments": {},
   "cell_type": "markdown",
   "metadata": {},
   "source": [
    "### LinkedList\n",
    "\n",
    "* this is the main class user will be interacting with\n",
    "* Node is expected to work inside LinkedList\n",
    "* Although node properties (_value, _next,_previous) are marked protected (against outside code) it is ok to access it from LinkedList\n",
    "    * LinkedList completely owns the Node\n",
    "    * The two should be part of same module\n",
    "    * Node has no role outside LinkedList\n"
   ]
  },
  {
   "cell_type": "code",
   "execution_count": 43,
   "metadata": {},
   "outputs": [],
   "source": [
    "class LinkedList:\n",
    "    def __init__(self):\n",
    "        self._first=None\n",
    "\n",
    "    def append(self, value):\n",
    "        if self._first==None: # list is empty\n",
    "            self._first=Node(value)\n",
    "        else: # add to the end of a non-empty list\n",
    "            n=self._first\n",
    "            while n._next:\n",
    "                n=n._next\n",
    "            n._next=Node(value, previous=n)\n",
    "\n",
    "    def info(self):\n",
    "        if self._first==None: \n",
    "            return \"LinkedList(empty)\"\n",
    "        str=\"LinkedList(\\t\"\n",
    "        n=self._first\n",
    "        while n:\n",
    "            str+=f'{n._value}\\t'\n",
    "            n=n._next\n",
    "        str+=\")\"\n",
    "        return str\n",
    "\n",
    "    def size(self):\n",
    "        c=0\n",
    "        n=self._first\n",
    "        while n:\n",
    "            c+=1\n",
    "            n=n._next\n",
    "        return c\n",
    "            "
   ]
  },
  {
   "cell_type": "code",
   "execution_count": 44,
   "metadata": {},
   "outputs": [
    {
     "name": "stdout",
     "output_type": "stream",
     "text": [
      "LinkedList(empty)\n"
     ]
    }
   ],
   "source": [
    "l1 = LinkedList()\n",
    "\n",
    "print(l1.info())\n",
    "\n"
   ]
  },
  {
   "cell_type": "code",
   "execution_count": 45,
   "metadata": {},
   "outputs": [
    {
     "name": "stdout",
     "output_type": "stream",
     "text": [
      "size 5\n",
      "LinkedList(\t2\t3\t9\t2\t6\t)\n"
     ]
    }
   ],
   "source": [
    "for value in [2,3,9,2,6]:\n",
    "    l1.append(value)\n",
    "\n",
    "print('size', l1.size())\n",
    "\n",
    "print(l1.info())"
   ]
  },
  {
   "cell_type": "code",
   "execution_count": 46,
   "metadata": {},
   "outputs": [],
   "source": [
    "def get(list,index):\n",
    "    n=list._first\n",
    "    for i in range(index):\n",
    "        n=n._next\n",
    "        if n==None:\n",
    "            break\n",
    "    else:\n",
    "        return n._value\n"
   ]
  },
  {
   "cell_type": "code",
   "execution_count": 47,
   "metadata": {},
   "outputs": [
    {
     "data": {
      "text/plain": [
       "9"
      ]
     },
     "execution_count": 47,
     "metadata": {},
     "output_type": "execute_result"
    }
   ],
   "source": [
    "get(l1,2)"
   ]
  },
  {
   "attachments": {},
   "cell_type": "markdown",
   "metadata": {},
   "source": [
    "### We can make this \"get\" function a part of LinkedList easily"
   ]
  },
  {
   "cell_type": "code",
   "execution_count": 48,
   "metadata": {},
   "outputs": [],
   "source": [
    "\n",
    "LinkedList.get=get"
   ]
  },
  {
   "cell_type": "code",
   "execution_count": 49,
   "metadata": {},
   "outputs": [
    {
     "data": {
      "text/plain": [
       "2"
      ]
     },
     "execution_count": 49,
     "metadata": {},
     "output_type": "execute_result"
    }
   ],
   "source": [
    "l1.get(3)"
   ]
  },
  {
   "cell_type": "code",
   "execution_count": 50,
   "metadata": {},
   "outputs": [],
   "source": [
    "def set(list,index,value):\n",
    "    n=list._first\n",
    "    for i in range(index):\n",
    "        n=n._next\n",
    "        if n==None:\n",
    "            break\n",
    "    else:\n",
    "        n._value=value\n",
    "\n",
    "LinkedList.set=set"
   ]
  },
  {
   "cell_type": "code",
   "execution_count": 51,
   "metadata": {},
   "outputs": [
    {
     "name": "stdout",
     "output_type": "stream",
     "text": [
      "0\n",
      "1\n",
      "2\n",
      "3\n",
      "4\n",
      "LinkedList(\t0\t10\t20\t30\t40\t)\n"
     ]
    }
   ],
   "source": [
    "l2=LinkedList()\n",
    "for i in range(5):\n",
    "    l2.append(i)\n",
    "    \n",
    "for i in range(l2.size()):\n",
    "    print(l2.get(i))\n",
    "    l2.set(i, i*10)\n",
    "\n",
    "print(l2.info())\n"
   ]
  },
  {
   "cell_type": "code",
   "execution_count": 52,
   "metadata": {},
   "outputs": [
    {
     "name": "stdout",
     "output_type": "stream",
     "text": [
      "LinkedList(\t10\t20\t30\t40\t50\t60\t70\t80\t90\t100\t)\n",
      "None\n"
     ]
    }
   ],
   "source": [
    "l=LinkedList()\n",
    "for n in range(10,101,10):\n",
    "    l.append(n)\n",
    "    def get_index_node(list, index):\n",
    "        n=list._first\n",
    "        for i in range(index):\n",
    "         n=n._next\n",
    "         if n==None:\n",
    "            break\n",
    "         else:\n",
    "            return n\n",
    "\n",
    " \n",
    "def get(list,index):\n",
    "    n=get_index_node(list, index)\n",
    "    return n._value\n",
    "\n",
    "def set(list,index,value):\n",
    "    n=get_index_node(list, index)\n",
    "    n._value=value\n",
    "\n",
    "def insert(list, index, value):\n",
    "    y=get_index_node(list, index)\n",
    "    x=y._previous\n",
    "    new_node=Node(value,previous=x,next=y)\n",
    "    if x:\n",
    "        x._next=new_node\n",
    "    else:\n",
    "        list._first=new_node\n",
    "    y._previous=new_node\n",
    "\n",
    "\n",
    "def remove(list, index):\n",
    "    n=get_index_node(list, index)\n",
    "    x= n._previous\n",
    "    y= n._next\n",
    "    if x:\n",
    "        x._next=y\n",
    "    else:\n",
    "        list._first=y\n",
    "    if y:\n",
    "        y._previous=x\n",
    "    return n._value\n",
    "print(l.info())\n",
    "print(insert(l,20,5))\n"
   ]
  },
  {
   "cell_type": "code",
   "execution_count": 53,
   "metadata": {},
   "outputs": [],
   "source": [
    "def isprime(n):\n",
    "    flag = 0\n",
    "    for i in range(2,int((n+1)/2)):\n",
    "        if n%i==0:\n",
    "            flag=1\n",
    "    if flag == 0:\n",
    "        return 1\n",
    "    else:\n",
    "        return 0\n",
    "\n",
    "def Findprime(list):\n",
    "    cur = list._first\n",
    "    prev = list._first\n",
    "    while cur:\n",
    "        prev = cur            \n",
    "        cur = cur._next      \n",
    "        data = cur._value\n",
    "        if(isprime(data) and data!=1 and data!=0):\n",
    "            print(data)      \n",
    "\n",
    "       "
   ]
  },
  {
   "cell_type": "code",
   "execution_count": 54,
   "metadata": {},
   "outputs": [
    {
     "name": "stdout",
     "output_type": "stream",
     "text": [
      "5\n"
     ]
    },
    {
     "ename": "AttributeError",
     "evalue": "'NoneType' object has no attribute '_value'",
     "output_type": "error",
     "traceback": [
      "\u001b[1;31m---------------------------------------------------------------------------\u001b[0m",
      "\u001b[1;31mAttributeError\u001b[0m                            Traceback (most recent call last)",
      "\u001b[1;32mc:\\Users\\raima\\training\\madhur\\jupyter\\16_linked_list.ipynb Cell 16\u001b[0m line \u001b[0;36m4\n\u001b[0;32m      <a href='vscode-notebook-cell:/c%3A/Users/raima/training/madhur/jupyter/16_linked_list.ipynb#X21sZmlsZQ%3D%3D?line=1'>2</a>\u001b[0m \u001b[39mfor\u001b[39;00m i \u001b[39min\u001b[39;00m \u001b[39mrange\u001b[39m(\u001b[39m50\u001b[39m):\n\u001b[0;32m      <a href='vscode-notebook-cell:/c%3A/Users/raima/training/madhur/jupyter/16_linked_list.ipynb#X21sZmlsZQ%3D%3D?line=2'>3</a>\u001b[0m     l1\u001b[39m.\u001b[39mappend(i)\n\u001b[1;32m----> <a href='vscode-notebook-cell:/c%3A/Users/raima/training/madhur/jupyter/16_linked_list.ipynb#X21sZmlsZQ%3D%3D?line=3'>4</a>\u001b[0m Findprime(l)\n",
      "\u001b[1;32mc:\\Users\\raima\\training\\madhur\\jupyter\\16_linked_list.ipynb Cell 16\u001b[0m line \u001b[0;36m1\n\u001b[0;32m     <a href='vscode-notebook-cell:/c%3A/Users/raima/training/madhur/jupyter/16_linked_list.ipynb#X21sZmlsZQ%3D%3D?line=14'>15</a>\u001b[0m prev \u001b[39m=\u001b[39m cur            \n\u001b[0;32m     <a href='vscode-notebook-cell:/c%3A/Users/raima/training/madhur/jupyter/16_linked_list.ipynb#X21sZmlsZQ%3D%3D?line=15'>16</a>\u001b[0m cur \u001b[39m=\u001b[39m cur\u001b[39m.\u001b[39m_next      \n\u001b[1;32m---> <a href='vscode-notebook-cell:/c%3A/Users/raima/training/madhur/jupyter/16_linked_list.ipynb#X21sZmlsZQ%3D%3D?line=16'>17</a>\u001b[0m data \u001b[39m=\u001b[39m cur\u001b[39m.\u001b[39;49m_value\n\u001b[0;32m     <a href='vscode-notebook-cell:/c%3A/Users/raima/training/madhur/jupyter/16_linked_list.ipynb#X21sZmlsZQ%3D%3D?line=17'>18</a>\u001b[0m \u001b[39mif\u001b[39;00m(isprime(data) \u001b[39mand\u001b[39;00m data\u001b[39m!=\u001b[39m\u001b[39m1\u001b[39m \u001b[39mand\u001b[39;00m data\u001b[39m!=\u001b[39m\u001b[39m0\u001b[39m):\n\u001b[0;32m     <a href='vscode-notebook-cell:/c%3A/Users/raima/training/madhur/jupyter/16_linked_list.ipynb#X21sZmlsZQ%3D%3D?line=18'>19</a>\u001b[0m     \u001b[39mprint\u001b[39m(data)\n",
      "\u001b[1;31mAttributeError\u001b[0m: 'NoneType' object has no attribute '_value'"
     ]
    }
   ],
   "source": [
    "l1 = LinkedList()\n",
    "for i in range(50):\n",
    "    l1.append(i)\n",
    "Findprime(l)"
   ]
  },
  {
   "cell_type": "code",
   "execution_count": null,
   "metadata": {},
   "outputs": [],
   "source": []
  },
  {
   "cell_type": "code",
   "execution_count": null,
   "metadata": {},
   "outputs": [],
   "source": []
  }
 ],
 "metadata": {
  "kernelspec": {
   "display_name": "Python 3",
   "language": "python",
   "name": "python3"
  },
  "language_info": {
   "codemirror_mode": {
    "name": "ipython",
    "version": 3
   },
   "file_extension": ".py",
   "mimetype": "text/x-python",
   "name": "python",
   "nbconvert_exporter": "python",
   "pygments_lexer": "ipython3",
   "version": "3.11.5"
  },
  "orig_nbformat": 4,
  "vscode": {
   "interpreter": {
    "hash": "bc4e78314997db9a44b6830e0aa6b75a33973256eb5fdaf587cb7b38c9328874"
   }
  }
 },
 "nbformat": 4,
 "nbformat_minor": 2
}
