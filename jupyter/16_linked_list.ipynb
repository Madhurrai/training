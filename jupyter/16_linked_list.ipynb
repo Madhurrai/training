{
 "cells": [
  {
   "attachments": {},
   "cell_type": "markdown",
   "metadata": {},
   "source": [
    "# Linked List\n",
    "\n",
    "* internally stores **values** in objects called **Node**\n",
    "    * **Node** is part of internal implementation details\n",
    "\n",
    "#### Node\n"
   ]
  },
  {
   "cell_type": "code",
   "execution_count": 65,
   "metadata": {},
   "outputs": [],
   "source": [
    "class Node:\n",
    "    def __init__(self, value,next=None, previous=None):\n",
    "        self._value=value\n",
    "        self._next=next\n",
    "        self._previous=previous"
   ]
  },
  {
   "attachments": {},
   "cell_type": "markdown",
   "metadata": {},
   "source": [
    "### LinkedList\n",
    "\n",
    "* this is the main class user will be interacting with\n",
    "* Node is expected to work inside LinkedList\n",
    "* Although node properties (_value, _next,_previous) are marked protected (against outside code) it is ok to access it from LinkedList\n",
    "    * LinkedList completely owns the Node\n",
    "    * The two should be part of same module\n",
    "    * Node has no role outside LinkedList\n"
   ]
  },
  {
   "cell_type": "code",
   "execution_count": 66,
   "metadata": {},
   "outputs": [],
   "source": [
    "class LinkedList:\n",
    "    def __init__(self):\n",
    "        self._first=None\n",
    "        self._tail=None\n",
    "\n",
    "    def append(self, value):\n",
    "        if self._first==None: # list is empty\n",
    "            self._first=Node(value)\n",
    "            self._tail = self._first\n",
    "        else: # add to the end of a non-empty list\n",
    "            new_node = Node(value, previous=self._tail)\n",
    "            self._tail._next = new_node\n",
    "            self._tail = new_node\n",
    "\n",
    "\n",
    "    def info(self):\n",
    "        if self._first==None: \n",
    "            return \"LinkedList(empty)\"\n",
    "        str=\"LinkedList(\\t\"\n",
    "        n=self._first\n",
    "        while n:\n",
    "            str+=f'{n._value}\\t'\n",
    "            n=n._next\n",
    "        str+=\")\"\n",
    "        return str\n",
    "\n",
    "    def size(self):\n",
    "        c=0\n",
    "        n=self._first\n",
    "        while n:\n",
    "            c+=1\n",
    "            n=n._next\n",
    "        return c\n",
    "    \n",
    "    def get_node(self,index):\n",
    "        n=self._first\n",
    "        for i in range(index):\n",
    "            n=n._next\n",
    "            if n==None:\n",
    "                return None\n",
    "        else:\n",
    "            return n\n",
    "        \n",
    "    def get(self,index):\n",
    "        return self.get_node(index)._value\n",
    "    def set(list,index,value):\n",
    "        n = list.get_node(index)\n",
    "        if not n:\n",
    "            return\n",
    "        n._value=value\n",
    "            "
   ]
  },
  {
   "cell_type": "code",
   "execution_count": 67,
   "metadata": {},
   "outputs": [
    {
     "name": "stdout",
     "output_type": "stream",
     "text": [
      "LinkedList(empty)\n"
     ]
    }
   ],
   "source": [
    "l1=LinkedList()\n",
    "print(l1.info())"
   ]
  },
  {
   "cell_type": "code",
   "execution_count": 68,
   "metadata": {},
   "outputs": [
    {
     "name": "stdout",
     "output_type": "stream",
     "text": [
      "size 5\n",
      "LinkedList(\t2\t3\t9\t2\t6\t)\n"
     ]
    }
   ],
   "source": [
    "for value in [2,3,9,2,6]:\n",
    "    l1.append(value)\n",
    "\n",
    "print('size', l1.size())\n",
    "\n",
    "print(l1.info())\n"
   ]
  },
  {
   "cell_type": "code",
   "execution_count": 69,
   "metadata": {},
   "outputs": [
    {
     "data": {
      "text/plain": [
       "9"
      ]
     },
     "execution_count": 69,
     "metadata": {},
     "output_type": "execute_result"
    }
   ],
   "source": [
    "get(l1,2)"
   ]
  },
  {
   "attachments": {},
   "cell_type": "markdown",
   "metadata": {},
   "source": [
    "### We can make this \"get\" function a part of LinkedList easily"
   ]
  },
  {
   "cell_type": "code",
   "execution_count": 70,
   "metadata": {},
   "outputs": [],
   "source": [
    "def insert(list, index, value):\n",
    "    y=list.get_node(index)\n",
    "    x=y._previous\n",
    "    new_node=Node(value,previous=x,next=y)\n",
    "    if x:\n",
    "        x._next=new_node\n",
    "    else:\n",
    "        list._first=new_node\n",
    "    y._previous=new_node\n",
    "\n",
    "def remove(list, index):\n",
    "    n=list.get_node(index)\n",
    "    x= n._previous\n",
    "    y= n._next\n",
    "    if x:\n",
    "        x._next=y\n",
    "    else:\n",
    "        list._first=y\n",
    "    if y:\n",
    "        y._previous=x\n",
    "    return n._value\n"
   ]
  },
  {
   "cell_type": "code",
   "execution_count": 71,
   "metadata": {},
   "outputs": [
    {
     "name": "stdout",
     "output_type": "stream",
     "text": [
      "LinkedList(\t2\t3\t9\t9\t2\t6\t)\n"
     ]
    },
    {
     "ename": "AttributeError",
     "evalue": "'NoneType' object has no attribute '_previous'",
     "output_type": "error",
     "traceback": [
      "\u001b[1;31m---------------------------------------------------------------------------\u001b[0m",
      "\u001b[1;31mAttributeError\u001b[0m                            Traceback (most recent call last)",
      "\u001b[1;32mc:\\Users\\raima\\training\\madhur\\jupyter\\16_linked_list.ipynb Cell 10\u001b[0m line \u001b[0;36m5\n\u001b[0;32m      <a href='vscode-notebook-cell:/c%3A/Users/raima/training/madhur/jupyter/16_linked_list.ipynb#X36sZmlsZQ%3D%3D?line=2'>3</a>\u001b[0m remove(l1,\u001b[39m3\u001b[39m)\n\u001b[0;32m      <a href='vscode-notebook-cell:/c%3A/Users/raima/training/madhur/jupyter/16_linked_list.ipynb#X36sZmlsZQ%3D%3D?line=3'>4</a>\u001b[0m remove(l1,\u001b[39m4\u001b[39m)\n\u001b[1;32m----> <a href='vscode-notebook-cell:/c%3A/Users/raima/training/madhur/jupyter/16_linked_list.ipynb#X36sZmlsZQ%3D%3D?line=4'>5</a>\u001b[0m remove(l1,\u001b[39m6\u001b[39;49m)\n\u001b[0;32m      <a href='vscode-notebook-cell:/c%3A/Users/raima/training/madhur/jupyter/16_linked_list.ipynb#X36sZmlsZQ%3D%3D?line=5'>6</a>\u001b[0m \u001b[39mprint\u001b[39m(l1\u001b[39m.\u001b[39minfo())\n",
      "\u001b[1;32mc:\\Users\\raima\\training\\madhur\\jupyter\\16_linked_list.ipynb Cell 10\u001b[0m line \u001b[0;36m1\n\u001b[0;32m     <a href='vscode-notebook-cell:/c%3A/Users/raima/training/madhur/jupyter/16_linked_list.ipynb#X36sZmlsZQ%3D%3D?line=10'>11</a>\u001b[0m \u001b[39mdef\u001b[39;00m \u001b[39mremove\u001b[39m(\u001b[39mlist\u001b[39m, index):\n\u001b[0;32m     <a href='vscode-notebook-cell:/c%3A/Users/raima/training/madhur/jupyter/16_linked_list.ipynb#X36sZmlsZQ%3D%3D?line=11'>12</a>\u001b[0m     n\u001b[39m=\u001b[39m\u001b[39mlist\u001b[39m\u001b[39m.\u001b[39mget_node(index)\n\u001b[1;32m---> <a href='vscode-notebook-cell:/c%3A/Users/raima/training/madhur/jupyter/16_linked_list.ipynb#X36sZmlsZQ%3D%3D?line=12'>13</a>\u001b[0m     x\u001b[39m=\u001b[39m n\u001b[39m.\u001b[39;49m_previous\n\u001b[0;32m     <a href='vscode-notebook-cell:/c%3A/Users/raima/training/madhur/jupyter/16_linked_list.ipynb#X36sZmlsZQ%3D%3D?line=13'>14</a>\u001b[0m     y\u001b[39m=\u001b[39m n\u001b[39m.\u001b[39m_next\n\u001b[0;32m     <a href='vscode-notebook-cell:/c%3A/Users/raima/training/madhur/jupyter/16_linked_list.ipynb#X36sZmlsZQ%3D%3D?line=14'>15</a>\u001b[0m     \u001b[39mif\u001b[39;00m x:\n",
      "\u001b[1;31mAttributeError\u001b[0m: 'NoneType' object has no attribute '_previous'"
     ]
    }
   ],
   "source": [
    "insert(l1,2,9)\n",
    "print(l1.info())\n",
    "remove(l1,3)\n",
    "remove(l1,4)\n",
    "remove(l1,6)\n",
    "print(l1.info())"
   ]
  },
  {
   "cell_type": "code",
   "execution_count": 72,
   "metadata": {},
   "outputs": [],
   "source": [
    "def clear(self):\n",
    "    temp = self._first\n",
    "    while temp!=None:\n",
    "        self.remove(0)\n",
    "        temp = temp._next\n",
    "def count(self, data):\n",
    "    temp = self._first\n",
    "    count = 0\n",
    "    while temp != None:\n",
    "        if(temp._value == data):\n",
    "            count += 1\n",
    "        temp = temp._value\n",
    "    return count\n",
    "    \n",
    "def __str__(self):\n",
    "    output = '('\n",
    "    temp = self._first\n",
    "    while temp != None:\n",
    "        output += str(temp._value) + ','\n",
    "        temp = temp._next\n",
    "    output +=')'\n",
    "    return output\n",
    "\n",
    "def __contains__(self, data):\n",
    "    temp = self._first\n",
    "    while temp != None:\n",
    "        if temp._value == data:\n",
    "            return True\n",
    "        temp = temp._next\n",
    "    return False"
   ]
  },
  {
   "cell_type": "code",
   "execution_count": 73,
   "metadata": {},
   "outputs": [],
   "source": [
    "def isPrime(n):\n",
    "    flag = 0\n",
    "    for i in range(2,int((n)/2+1)):\n",
    "        if n%i==0:\n",
    "            flag=1\n",
    "    if flag == 0:\n",
    "        return 1\n",
    "    else:\n",
    "        return 0\n",
    "\n",
    "def findPrime(list):\n",
    "    current = list._first\n",
    "    previous = list._first\n",
    "    while current._next:\n",
    "        previous = current           \n",
    "        current = current._next      \n",
    "        data = current._value\n",
    "        if(isPrime(data) and data!=1 and data!=0):\n",
    "            print(data)   "
   ]
  },
  {
   "cell_type": "code",
   "execution_count": 76,
   "metadata": {},
   "outputs": [
    {
     "name": "stdout",
     "output_type": "stream",
     "text": [
      "3\n",
      "2\n"
     ]
    }
   ],
   "source": [
    "findPrime(l1)"
   ]
  },
  {
   "cell_type": "code",
   "execution_count": 74,
   "metadata": {},
   "outputs": [],
   "source": [
    "def isEven(list):\n",
    "    print(\"EVEN\")\n",
    "    cur = list._first\n",
    "    prev = list._first\n",
    "    while cur:\n",
    "        data = cur._value\n",
    "        if data%2==0:\n",
    "            print(f'{data}',end=\"\\t\")\n",
    "        prev = cur            \n",
    "        cur = cur._next      \n"
   ]
  },
  {
   "cell_type": "code",
   "execution_count": 80,
   "metadata": {},
   "outputs": [
    {
     "name": "stdout",
     "output_type": "stream",
     "text": [
      "EVEN\n",
      "2\t2\t"
     ]
    },
    {
     "data": {
      "text/plain": [
       "'LinkedList(\\t2\\t3\\t9\\t2\\t)'"
      ]
     },
     "execution_count": 80,
     "metadata": {},
     "output_type": "execute_result"
    }
   ],
   "source": [
    "isEven(l1)\n",
    "l1.info()"
   ]
  },
  {
   "cell_type": "code",
   "execution_count": 75,
   "metadata": {},
   "outputs": [],
   "source": [
    "def sort_list(list):\n",
    "    swapped = 0\n",
    "    start = list._first\n",
    "    lptr= None\n",
    "\n",
    "    ''' Checking for empty list '''\n",
    "    if (start == None):\n",
    "        return\n",
    "    \n",
    "    while True:\n",
    "        swapped = 0\n",
    "        ptr1 = start;  \n",
    "        while (ptr1._next != lptr):      \n",
    "            if (ptr1._value > ptr1._next._value):          \n",
    "                ptr1._value, ptr1._next._value = ptr1._next._value, ptr1._value\n",
    "                swapped = 1;      \n",
    "            ptr1 = ptr1._next;      \n",
    "        lptr = ptr1;    \n",
    "        if swapped == 0:\n",
    "            break"
   ]
  },
  {
   "cell_type": "code",
   "execution_count": 85,
   "metadata": {},
   "outputs": [
    {
     "name": "stdout",
     "output_type": "stream",
     "text": [
      "LinkedList(\t2\t2\t3\t9\t)\n"
     ]
    }
   ],
   "source": [
    "sort_list(l1)\n",
    "print(l1.info())"
   ]
  }
 ],
 "metadata": {
  "kernelspec": {
   "display_name": "Python 3",
   "language": "python",
   "name": "python3"
  },
  "language_info": {
   "codemirror_mode": {
    "name": "ipython",
    "version": 3
   },
   "file_extension": ".py",
   "mimetype": "text/x-python",
   "name": "python",
   "nbconvert_exporter": "python",
   "pygments_lexer": "ipython3",
   "version": "3.11.5"
  },
  "orig_nbformat": 4,
  "vscode": {
   "interpreter": {
    "hash": "bc4e78314997db9a44b6830e0aa6b75a33973256eb5fdaf587cb7b38c9328874"
   }
  }
 },
 "nbformat": 4,
 "nbformat_minor": 2
}
