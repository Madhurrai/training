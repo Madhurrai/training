{
 "cells": [
  {
   "cell_type": "code",
   "execution_count": 4,
   "metadata": {},
   "outputs": [],
   "source": [
    "class Bank:\n",
    "    pass\n",
    "\n",
    "def create(accNo,name,password,balance,intRate):  \n",
    "        b = Bank()\n",
    "        b.accNo=accNo\n",
    "        b.name=name\n",
    "        b.password=password\n",
    "        b.balance=balance\n",
    "        b.intRate=intRate\n",
    "        return b\n",
    "\n",
    "def deposit(ba,amount):\n",
    "    if amount>=0:\n",
    "        ba.balance += amount\n",
    "    else:\n",
    "        print(\"Enter amount greater than 0\")\n",
    "    return ba.balance\n",
    "\n",
    "def withdraw(ba,password,amt):\n",
    "    if amt<0:\n",
    "        print(\"withdraw failed due to negative amount\")\n",
    "    elif amt>ba.balance:\n",
    "        print(\"Low balance\")\n",
    "    elif ba.password!=password:\n",
    "        print(\"Invalid password\")\n",
    "    else:\n",
    "        ba.balance-=amt\n",
    "    return ba.balance\n",
    " \n",
    "def creditInt(ba,rate):\n",
    "    ba.balance+=(ba.balance*rate/1200)\n",
    "    return ba.balance\n",
    "\n",
    "def info(ba):\n",
    "    print(\"Account number :\", ba.accNo )\n",
    "    print(\"Account holder name :\",ba.name)\n",
    "    print(\"Account balance :\", ba.balance )\n",
    "    print(\"Account interest rate : \",ba.intRate )\n",
    "\n",
    "     "
   ]
  },
  {
   "cell_type": "code",
   "execution_count": 5,
   "metadata": {},
   "outputs": [
    {
     "name": "stdout",
     "output_type": "stream",
     "text": [
      "Account number : 1234\n",
      "Account holder name : Madhur\n",
      "Account balance : 100\n",
      "Account interest rate :  5\n",
      "200\n",
      "180\n",
      "180.75\n",
      "160.75\n"
     ]
    }
   ],
   "source": [
    "acc_new=create(1234,\"Madhur\",\"M@12345\",100,5)\n",
    "info(acc_new)\n",
    "print(deposit(acc_new,100))\n",
    "print(withdraw(acc_new,\"M@12345\",20))\n",
    "print((creditInt(acc_new,5)))\n",
    "print(withdraw(acc_new,\"M@12345\",20))\n"
   ]
  },
  {
   "cell_type": "code",
   "execution_count": 6,
   "metadata": {},
   "outputs": [
    {
     "name": "stdout",
     "output_type": "stream",
     "text": [
      "Low balance\n"
     ]
    },
    {
     "data": {
      "text/plain": [
       "160.75"
      ]
     },
     "execution_count": 6,
     "metadata": {},
     "output_type": "execute_result"
    }
   ],
   "source": [
    "withdraw(acc_new,\"M@12345\",200)"
   ]
  },
  {
   "cell_type": "code",
   "execution_count": null,
   "metadata": {},
   "outputs": [],
   "source": []
  }
 ],
 "metadata": {
  "kernelspec": {
   "display_name": "Python 3",
   "language": "python",
   "name": "python3"
  },
  "language_info": {
   "codemirror_mode": {
    "name": "ipython",
    "version": 3
   },
   "file_extension": ".py",
   "mimetype": "text/x-python",
   "name": "python",
   "nbconvert_exporter": "python",
   "pygments_lexer": "ipython3",
   "version": "3.11.5"
  },
  "orig_nbformat": 4
 },
 "nbformat": 4,
 "nbformat_minor": 2
}
